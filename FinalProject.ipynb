{
 "cells": [
  {
   "cell_type": "code",
   "execution_count": 1,
   "id": "1e65513f",
   "metadata": {},
   "outputs": [],
   "source": [
    "# Extract Patches for all the letters\n",
    "\n",
    "import cv2\n",
    "import numpy as np\n",
    "\n",
    "# Load the image\n",
    "image = cv2.imread('Letters.png')\n",
    "\n",
    "# Preprocess the image if necessary (e.g., resizing, thresholding, etc.)\n",
    "\n",
    "# Segment the image into individual letters\n",
    "gray = cv2.cvtColor(image, cv2.COLOR_BGR2GRAY)\n",
    "ret, thresh = cv2.threshold(gray, 127, 255, cv2.THRESH_BINARY_INV)\n",
    "contours, hierarchy = cv2.findContours(thresh, cv2.RETR_EXTERNAL, cv2.CHAIN_APPROX_SIMPLE)\n",
    "\n",
    "# Extract patches from the individual letters\n",
    "patches = []\n",
    "for contour in contours:\n",
    "    (x, y, w, h) = cv2.boundingRect(contour)\n",
    "    patch = image[y:y+h, x:x+w]\n",
    "    patches.append(patch)\n",
    "\n",
    "# Save the patches as separate image files\n",
    "for i, patch in enumerate(patches):\n",
    "    cv2.imwrite(f'patch_{i}.jpg', patch)\n"
   ]
  },
  {
   "cell_type": "code",
   "execution_count": 5,
   "id": "7630cfdb",
   "metadata": {},
   "outputs": [
    {
     "name": "stdout",
     "output_type": "stream",
     "text": [
      "Number of patches: 52\n",
      "Number of labels: 52\n"
     ]
    }
   ],
   "source": [
    "# After manual labeling\n",
    "import cv2\n",
    "import numpy as np\n",
    "import os\n",
    "\n",
    "# Function to load patches and labels\n",
    "def load_data(uppercase_dir, lowercase_dir, patch_size):\n",
    "    patches = []\n",
    "    labels = []\n",
    "\n",
    "    # Load uppercase patches\n",
    "    for filename in os.listdir(uppercase_dir):\n",
    "        if filename.endswith(\".jpg\"):\n",
    "            patch = cv2.imread(os.path.join(uppercase_dir, filename))\n",
    "            patch = cv2.resize(patch, patch_size)  # Resize the patch to a consistent size\n",
    "            label = filename.split('_')[1].split('.')[0]\n",
    "            patches.append(patch)\n",
    "            labels.append(label.upper())  # Assign uppercase label\n",
    "\n",
    "    # Load lowercase patches\n",
    "    for filename in os.listdir(lowercase_dir):\n",
    "        if filename.endswith(\".jpg\"):\n",
    "            patch = cv2.imread(os.path.join(lowercase_dir, filename))\n",
    "            patch = cv2.resize(patch, patch_size)  # Resize the patch to a consistent size\n",
    "            label = filename.split('_')[1].split('.')[0]\n",
    "            patches.append(patch)\n",
    "            labels.append(label.lower())  # Assign lowercase label\n",
    "\n",
    "    return patches, labels\n",
    "\n",
    "# Provide the paths to the directories containing uppercase and lowercase patches\n",
    "uppercase_dir = './Data/uppercase/'\n",
    "lowercase_dir = './Data/lowercase/'\n",
    "\n",
    "# Set the desired size for the patches (e.g., 32x32)\n",
    "patch_size = (32, 32)\n",
    "\n",
    "# Load the patches and labels\n",
    "patches, labels = load_data(uppercase_dir, lowercase_dir, patch_size)\n",
    "\n",
    "# Convert the lists to numpy arrays\n",
    "patches = np.array(patches)\n",
    "labels = np.array(labels)\n",
    "\n",
    "# Print the shape of the loaded data\n",
    "print(\"Number of patches:\", patches.shape[0])\n",
    "print(\"Number of labels:\", labels.shape[0])\n",
    "\n",
    "\n",
    "\n"
   ]
  },
  {
   "cell_type": "code",
   "execution_count": 6,
   "id": "034b7588",
   "metadata": {},
   "outputs": [
    {
     "name": "stdout",
     "output_type": "stream",
     "text": [
      "['A' 'B' 'C' 'D' 'E' 'F' 'G' 'H' 'I' 'J' 'K' 'L' 'M' 'N' 'O' 'P' 'Q' 'R'\n",
      " 'S' 'T' 'U' 'V' 'W' 'X' 'Y' 'Z' 'a' 'b' 'c' 'd' 'e' 'f' 'g' 'h' 'i' 'j'\n",
      " 'k' 'l' 'm' 'n' 'o' 'p' 'q' 'r' 's' 't' 'u' 'v' 'w' 'x' 'y' 'z']\n"
     ]
    }
   ],
   "source": [
    "print(labels)"
   ]
  },
  {
   "cell_type": "code",
   "execution_count": null,
   "id": "76310708",
   "metadata": {},
   "outputs": [],
   "source": []
  }
 ],
 "metadata": {
  "kernelspec": {
   "display_name": "Python 3 (ipykernel)",
   "language": "python",
   "name": "python3"
  },
  "language_info": {
   "codemirror_mode": {
    "name": "ipython",
    "version": 3
   },
   "file_extension": ".py",
   "mimetype": "text/x-python",
   "name": "python",
   "nbconvert_exporter": "python",
   "pygments_lexer": "ipython3",
   "version": "3.10.9"
  }
 },
 "nbformat": 4,
 "nbformat_minor": 5
}
